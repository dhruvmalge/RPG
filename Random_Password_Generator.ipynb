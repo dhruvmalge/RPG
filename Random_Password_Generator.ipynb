{
 "cells": [
  {
   "cell_type": "markdown",
   "id": "c67e779e",
   "metadata": {},
   "source": [
    "# Passwords Generator"
   ]
  },
  {
   "cell_type": "markdown",
   "id": "7629c5fd",
   "metadata": {},
   "source": [
    "## Generate Password by pre-defined length of Password"
   ]
  },
  {
   "cell_type": "code",
   "execution_count": 1,
   "id": "852ef06d",
   "metadata": {},
   "outputs": [
    {
     "name": "stdout",
     "output_type": "stream",
     "text": [
      "Ec}NT}0=bhtQeAHxa?E{IYFKV\n"
     ]
    }
   ],
   "source": [
    "import string\n",
    "import random\n",
    "length = 25\n",
    "passwords = []\n",
    "randchoic = string.ascii_letters + string.ascii_lowercase + string.ascii_uppercase + string.punctuation + string.digits\n",
    "for i in range(length):\n",
    "    randchoice = random.choice(randchoic)\n",
    "    passwords.append(randchoice)\n",
    "passwords = \"\".join(passwords)\n",
    "print(passwords)"
   ]
  },
  {
   "cell_type": "markdown",
   "id": "aa5fffc7",
   "metadata": {},
   "source": [
    "## Generate Password by inserting length "
   ]
  },
  {
   "cell_type": "code",
   "execution_count": 2,
   "id": "a525d457",
   "metadata": {},
   "outputs": [
    {
     "name": "stdout",
     "output_type": "stream",
     "text": [
      "Enter the length of password :25\n",
      "obE}q>Q)m`cEgAO_<BxlVabKh\n"
     ]
    }
   ],
   "source": [
    "import string\n",
    "import random\n",
    "length = int(input(\"Enter the length of password :\"))\n",
    "passwords = []\n",
    "randchoic = string.ascii_letters + string.ascii_lowercase + string.ascii_uppercase + string.punctuation + string.digits\n",
    "for i in range(length):\n",
    "    randchoice = random.choice(randchoic)\n",
    "    passwords.append(randchoice)\n",
    "passwords = \"\".join(passwords)\n",
    "print(passwords)"
   ]
  },
  {
   "cell_type": "markdown",
   "id": "fd0a1ee3",
   "metadata": {},
   "source": [
    "## Generate Passwords by its length and number of samples"
   ]
  },
  {
   "cell_type": "code",
   "execution_count": 4,
   "id": "1775cfbd",
   "metadata": {},
   "outputs": [
    {
     "name": "stdout",
     "output_type": "stream",
     "text": [
      "Choose Password Length :25\n",
      "Choose Number of samples : 7\n",
      "pzFM3IRL8+AY2xFz&p&Q{ruV$\n",
      "pFP%hG3_iXN$mIaeTeC0[#4XJ\n",
      "0IYVaDjMuuRqlNQy4cKKW#]i$\n",
      "zfO|M+Nz8ZY=Lc{c.skg['foT\n",
      "TZUfaEwlqIz\"b#L&MYloVADhK\n",
      ",N\\IUpuEnoS=cVFJtI%dV:Ub7\n",
      "Of(Dap>cCZ5TNT|?[K/,AZMkX\n"
     ]
    }
   ],
   "source": [
    "import string\n",
    "import random as random\n",
    "length = int(input(\"Choose Password Length :\"))\n",
    "samples = int(input(\"Choose Number of samples : \"))\n",
    "passwords = []\n",
    "randchoic = string.ascii_letters + string.ascii_lowercase + string.ascii_uppercase + string.punctuation + string.digits\n",
    "for i in range(length):\n",
    "    randchoice = random.choice(randchoic)\n",
    "    appended = passwords.append(randchoice)\n",
    "for x in range(samples):\n",
    "    passwords = random.choices(randchoic, k=length)\n",
    "    passwords = \"\".join(passwords)\n",
    "    #passwords = passwords.splitlines()\n",
    "    print(passwords)"
   ]
  },
  {
   "cell_type": "code",
   "execution_count": null,
   "id": "aa8f97bc",
   "metadata": {},
   "outputs": [],
   "source": []
  }
 ],
 "metadata": {
  "kernelspec": {
   "display_name": "Python 3 (ipykernel)",
   "language": "python",
   "name": "python3"
  },
  "language_info": {
   "codemirror_mode": {
    "name": "ipython",
    "version": 3
   },
   "file_extension": ".py",
   "mimetype": "text/x-python",
   "name": "python",
   "nbconvert_exporter": "python",
   "pygments_lexer": "ipython3",
   "version": "3.9.15"
  }
 },
 "nbformat": 4,
 "nbformat_minor": 5
}
